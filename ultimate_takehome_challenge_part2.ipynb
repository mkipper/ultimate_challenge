{
 "cells": [
  {
   "cell_type": "markdown",
   "id": "ded443ff",
   "metadata": {},
   "source": [
    "# Part 2 - Experiment and metrics design"
   ]
  },
  {
   "cell_type": "markdown",
   "id": "00f21ac7",
   "metadata": {},
   "source": [
    "The neighboring cities of Gotham and Metropolis have complementary circadian rhythms: on\n",
    "weekdays, Ultimate Gotham is most active at night, and Ultimate Metropolis is most active\n",
    "during the day. On weekends, there is reasonable activity in both cities.\n",
    "However, a toll bridge, with a two way toll, between the two cities causes driver partners to tend\n",
    "to be exclusive to each city. The Ultimate managers of city operations for the two cities have\n",
    "proposed an experiment to encourage driver partners to be available in both cities, by\n",
    "reimbursing all toll costs."
   ]
  },
  {
   "cell_type": "markdown",
   "id": "5e8bbc9f",
   "metadata": {},
   "source": [
    "**1) What would you choose as the key measure of success of this experiment in encouraging driver partners to serve both cities, and why would you choose this metric?**"
   ]
  },
  {
   "cell_type": "markdown",
   "id": "64f89e9a",
   "metadata": {},
   "source": [
    "The primary metric that would be a measure of success is an increase in revenue. It is the ultimate goal of any business and the reason behind any promotional initiatives.\n",
    "\n",
    "Second to that would be the activity of driver partners across both cities. This metric would have to be measured over the weekend because of the difference in peak times over the week versus the weekend. Because activity is reasonable in both cities it is more likely that drivers will commute to both cities to earn a little extra. Peak times are set during the week and driver partners probably have regular routes/active times during these peaks. It would be a hard sell to get them to alter their income in this way."
   ]
  },
  {
   "cell_type": "markdown",
   "id": "69b88d52",
   "metadata": {},
   "source": [
    "**2) Describe a practical experiment you would design to compare the effectiveness of the proposed change in relation to the key measure of success. Please provide details on:**\n",
    "\n",
    "**a) how you will implement the experiment**\n",
    "\n",
    "**b) what statistical test(s) you will conduct to verify the significance of the observation**\n",
    "\n",
    "**c) how you would interpret the results and provide recommendations to the city operations team along with any caveats.**"
   ]
  },
  {
   "cell_type": "markdown",
   "id": "ed341523",
   "metadata": {},
   "source": [
    "a)\n",
    "To implement this experiment, I would split the driver partners into 3 groups: 1) Driver partners exclusive to Gotham 2) driver partners exclusive to Metropolis and 3) Driver partners with no exclusivity. I would split each of these groups in half randomly and offer one half of each group the toll reimbursement program. This test would be most effective if run more than once with a different random split across all groups.\n",
    "\n",
    "b)\n",
    "To verify the significance of the observation, I perform the A/B test on those two groups. I perform the t-test with a confidence level of 95%, where the null hypothesis is that reimbursing drivers for tolls does not have a statistically significant impact on driver partner availability and revenue.\n",
    "\n",
    "c)\n",
    "If there is an increase in revenue and driver partner availaility then I would recommend that this proposal be implemented.\n",
    "If there is an increase in driver partner availability but no increase in revenue I would not recommend this proposal as the company would continue to lose money if implemented. Other opportunities to increase driver partner availability would have to be explored."
   ]
  },
  {
   "cell_type": "code",
   "execution_count": null,
   "id": "0a5b8969",
   "metadata": {},
   "outputs": [],
   "source": []
  }
 ],
 "metadata": {
  "kernelspec": {
   "display_name": "Python 3",
   "language": "python",
   "name": "python3"
  },
  "language_info": {
   "codemirror_mode": {
    "name": "ipython",
    "version": 3
   },
   "file_extension": ".py",
   "mimetype": "text/x-python",
   "name": "python",
   "nbconvert_exporter": "python",
   "pygments_lexer": "ipython3",
   "version": "3.8.8"
  }
 },
 "nbformat": 4,
 "nbformat_minor": 5
}
